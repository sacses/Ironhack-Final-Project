{
 "cells": [
  {
   "cell_type": "markdown",
   "metadata": {},
   "source": [
    "## Acquiring the data"
   ]
  },
  {
   "cell_type": "code",
   "execution_count": null,
   "metadata": {},
   "outputs": [],
   "source": [
    "\n",
    "import pandas as pd\n",
    "import glob\n",
    "\n",
    "#Adding relative path name to data variable. Dataset suffix is data when it's available\n",
    "\n",
    "for i in glob.glob('../data/data*.csv'):\n",
    "    data = i\n",
    "    \n",
    "#Rows skipped to avoid additional cleaning, dates parsed and date used as the index\n",
    "\n",
    "MM = pd.read_csv(data, skiprows=[1, 483], header= 0, \n",
    "                 na_values=0, parse_dates=['Payouts Payout Currency'], \n",
    "                 index_col='Payouts Payout Currency').rename_axis(None)"
   ]
  },
  {
   "cell_type": "code",
   "execution_count": null,
   "metadata": {},
   "outputs": [],
   "source": [
    "pd.set_option('display.max_rows', None)\n",
    "pd.set_option('display.max_columns', None)"
   ]
  },
  {
   "cell_type": "code",
   "execution_count": null,
   "metadata": {},
   "outputs": [],
   "source": [
    "#This function sets the beginning of the time series based on first 3 consecutives weeks without FX MM\n",
    "def series_begins(x):\n",
    "    nan_index = x.index[end:][x.isnull()]\n",
    "    for i in range(0,len(nan_index)):\n",
    "        upper = i + 2\n",
    "        difference = nan_index[i] - nan_index[(upper)]\n",
    "        if difference.days == 14:\n",
    "            return nan_index[i]\n"
   ]
  },
  {
   "cell_type": "code",
   "execution_count": null,
   "metadata": {},
   "outputs": [],
   "source": [
    "def series_begins(x):\n",
    "    nan_index = x.index[x.isnull()]\n",
    "    for i in range(0,len(nan_index)):\n",
    "        upper = i + 2\n",
    "        difference = nan_index[i] - nan_index[(upper)]\n",
    "        if difference.days == 14:\n",
    "            return nan_index[i]"
   ]
  },
  {
   "cell_type": "code",
   "execution_count": null,
   "metadata": {},
   "outputs": [],
   "source": [
    "MM['KRW'].index[end:][MM['KRW'].isnull()]"
   ]
  },
  {
   "cell_type": "code",
   "execution_count": null,
   "metadata": {},
   "outputs": [],
   "source": [
    "#This function sets the end of the time series based on last 2 consecutives weeks with FX MM\n",
    "def series_ends(x):\n",
    "    notnan_index = x.index[x.notna()]\n",
    "    for i in range(0,len(notnan_index)):\n",
    "        notnan_upper = i + 1\n",
    "        notnan_difference = notnan_index[i] - notnan_index[(notnan_upper)]\n",
    "        if notnan_difference.days == 7:\n",
    "            return notnan_index[i]"
   ]
  },
  {
   "cell_type": "code",
   "execution_count": null,
   "metadata": {},
   "outputs": [],
   "source": [
    "series_ends(MM['KRW'])"
   ]
  },
  {
   "cell_type": "code",
   "execution_count": null,
   "metadata": {},
   "outputs": [],
   "source": [
    "#Beginning dates are passed on a dictionary per feature in the data set\n",
    "\n",
    "dict_series_begings = {i:series_begins(MM[i]) for i in MM.columns}"
   ]
  },
  {
   "cell_type": "code",
   "execution_count": null,
   "metadata": {},
   "outputs": [],
   "source": [
    "\n",
    "\n",
    "MM.loc[:series_begins(MM['AED']),'AED'].iloc[:-1]"
   ]
  },
  {
   "cell_type": "code",
   "execution_count": null,
   "metadata": {},
   "outputs": [],
   "source": [
    "MM.apply(lambda x: series_begins(x['AUD']), axis=1)"
   ]
  },
  {
   "cell_type": "code",
   "execution_count": null,
   "metadata": {},
   "outputs": [],
   "source": [
    "MM"
   ]
  },
  {
   "cell_type": "code",
   "execution_count": null,
   "metadata": {},
   "outputs": [],
   "source": [
    "series_begins(MM['AUD'])[2]"
   ]
  },
  {
   "cell_type": "code",
   "execution_count": null,
   "metadata": {},
   "outputs": [],
   "source": [
    "delta = series_begins(MM['AUD'])[0] - series_begins(MM['AUD'])[2]\n",
    "delta.days"
   ]
  },
  {
   "cell_type": "code",
   "execution_count": null,
   "metadata": {},
   "outputs": [],
   "source": [
    "MM.apply(lambda x: series_begins(x['AUD']), axis=1)"
   ]
  },
  {
   "cell_type": "markdown",
   "metadata": {},
   "source": [
    "## Cleaning Data"
   ]
  },
  {
   "cell_type": "code",
   "execution_count": null,
   "metadata": {},
   "outputs": [],
   "source": [
    "MM.isnull().sum().sort_values()"
   ]
  },
  {
   "cell_type": "code",
   "execution_count": null,
   "metadata": {},
   "outputs": [],
   "source": [
    "MM['USD'].sum()"
   ]
  }
 ],
 "metadata": {
  "kernelspec": {
   "display_name": "Python [conda env:final-project]",
   "language": "python",
   "name": "conda-env-final-project-py"
  },
  "language_info": {
   "codemirror_mode": {
    "name": "ipython",
    "version": 3
   },
   "file_extension": ".py",
   "mimetype": "text/x-python",
   "name": "python",
   "nbconvert_exporter": "python",
   "pygments_lexer": "ipython3",
   "version": "3.7.5"
  }
 },
 "nbformat": 4,
 "nbformat_minor": 4
}
