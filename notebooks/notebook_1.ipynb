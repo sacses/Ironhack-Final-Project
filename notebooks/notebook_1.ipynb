{
 "cells": [
  {
   "cell_type": "markdown",
   "metadata": {},
   "source": [
    "## Acquiring the data"
   ]
  },
  {
   "cell_type": "code",
   "execution_count": null,
   "metadata": {},
   "outputs": [],
   "source": [
    "import numpy as np\n",
    "import pandas as pd\n",
    "import glob\n",
    "\n",
    "#Adding relative path name to data variable. Dataset suffix is data when it's available\n",
    "\n",
    "data = [i for i in glob.glob('../data/data*.csv')]\n",
    "    \n",
    "#Rows skipped to avoid additional cleaning, dates parsed and date used as the index\n",
    "\n",
    "MM = pd.read_csv(data[0], skiprows=[1, 483], header= 0, \n",
    "                 na_values=0, parse_dates=['Payouts Payout Currency'], \n",
    "                 index_col='Payouts Payout Currency').rename_axis(None)"
   ]
  },
  {
   "cell_type": "code",
   "execution_count": null,
   "metadata": {},
   "outputs": [],
   "source": [
    "pd.set_option('display.max_rows', None)\n",
    "pd.set_option('display.max_columns', None)"
   ]
  },
  {
   "cell_type": "code",
   "execution_count": null,
   "metadata": {},
   "outputs": [],
   "source": [
    "#This function sets the beginning of the time series based on first 3 consecutives weeks without FX MM\n",
    "def series_begins(x):\n",
    "    nan_index = x.index[x.isnull()]\n",
    "    for i in range(0,len(nan_index)):\n",
    "        upper = i + 2\n",
    "        difference = nan_index[i] - nan_index[(upper)]\n",
    "        if difference.days == 14:\n",
    "            return nan_index[i]\n"
   ]
  },
  {
   "cell_type": "code",
   "execution_count": null,
   "metadata": {},
   "outputs": [],
   "source": [
    "#This function sets the end of the time series based on last 2 consecutives weeks with FX MM\n",
    "def series_ends(x):\n",
    "    notnan_index = x.index[x.notna()]\n",
    "    for i in range(0,len(notnan_index)):\n",
    "        notnan_upper = i + 1\n",
    "        notnan_difference = notnan_index[i] - notnan_index[(notnan_upper)]\n",
    "        if notnan_difference.days == 7:\n",
    "            return notnan_index[i]"
   ]
  },
  {
   "cell_type": "code",
   "execution_count": null,
   "metadata": {},
   "outputs": [],
   "source": [
    "def series_ends_begins(x):\n",
    "    ends_begins = []\n",
    "    notnan_index = x.index[x.notna()]\n",
    "    for i in range(0,len(notnan_index)):\n",
    "        notnan_upper = i + 1\n",
    "        notnan_difference = notnan_index[i] - notnan_index[(notnan_upper)]\n",
    "        if notnan_difference.days == 7:\n",
    "            ends_begins.append(notnan_index[i])\n",
    "            nan_index = x.loc[ends_begins[0]:].index[x.loc[ends_begins[0]:].isnull()]\n",
    "            for i in range(0,len(nan_index)):\n",
    "                upper = i + 2\n",
    "                difference = nan_index[i] - nan_index[(upper)]\n",
    "                if difference.days == 14:\n",
    "                    ends_begins.append(nan_index[i])\n",
    "                    return ends_begins\n",
    "                \n",
    "                \n",
    "type(series_ends_begins(MM['GBP']))"
   ]
  },
  {
   "cell_type": "code",
   "execution_count": null,
   "metadata": {},
   "outputs": [],
   "source": [
    "\"\"\"\n",
    "This function lists the end, based on last 2 consecutives weeks with FX MM\n",
    "and the start, based on on first 3 consecutives weeks without FX MM, of the timeseries.\n",
    "\"\"\"\n",
    "\n",
    "\n",
    "def series_end_start(x):\n",
    "    end_start = [0,0]\n",
    "    notnan_index = x.index[x.notna()]\n",
    "    for i in range(0,len(notnan_index)):\n",
    "        notnan_upper = i + 1\n",
    "        notnan_difference = notnan_index[i] - notnan_index[(notnan_upper)]\n",
    "        if notnan_difference.days == 7:\n",
    "            end_start[0] = notnan_index[i]\n",
    "            nan_index = x.loc[end_start[0]:].index[x.loc[end_start[0]:].isnull()]\n",
    "            for i in range(0,len(nan_index)):\n",
    "                upper = i + 2\n",
    "                difference = nan_index[i] - nan_index[(upper)]\n",
    "                if difference.days == 14:\n",
    "                    end_start[1] = nan_index[i]\n",
    "                    return end_start"
   ]
  },
  {
   "cell_type": "code",
   "execution_count": null,
   "metadata": {},
   "outputs": [],
   "source": [
    "#Beginning dates are passed on a dictionary per feature in the data set\n",
    "\n",
    "dict_series_begings = {i:series_begins(MM[i]) for i in MM.columns}"
   ]
  },
  {
   "cell_type": "code",
   "execution_count": null,
   "metadata": {},
   "outputs": [],
   "source": [
    "#Series end and start dates are passed on to dictionary\n",
    "\n",
    "dict_series_end_start = {i:series_end_start(MM[i]) for i in MM.columns}"
   ]
  },
  {
   "cell_type": "code",
   "execution_count": null,
   "metadata": {},
   "outputs": [],
   "source": [
    "dict_series_end_start"
   ]
  },
  {
   "cell_type": "code",
   "execution_count": null,
   "metadata": {},
   "outputs": [],
   "source": [
    "MM.loc[dict_series_end_start['USD'][0]:dict_series_end_start['USD'][1],'USD'].iloc[:-1]"
   ]
  },
  {
   "cell_type": "code",
   "execution_count": null,
   "metadata": {},
   "outputs": [],
   "source": [
    "#The function creates a data frame bounded by the end and start of the series\n",
    "\n",
    "def get_df(x):\n",
    "    try:\n",
    "        series = MM.loc[dict_series_end_start[x][0]:dict_series_end_start[x][1],x].iloc[:-1].fillna(0)\n",
    "        df_output = series.reset_index().rename({'index':'ds', x:'y'}, axis=1)\n",
    "\n",
    "        return df_output\n",
    "    except:\n",
    "        return print(f\"There isn't enough historic data to predict {x} volumes or {x} is not a valid market.\")"
   ]
  },
  {
   "cell_type": "code",
   "execution_count": null,
   "metadata": {},
   "outputs": [],
   "source": [
    "get_df('GUA')"
   ]
  },
  {
   "cell_type": "code",
   "execution_count": null,
   "metadata": {},
   "outputs": [],
   "source": []
  },
  {
   "cell_type": "code",
   "execution_count": null,
   "metadata": {},
   "outputs": [],
   "source": [
    "from matplotlib import pyplot as plt\n",
    "from fbprophet import Prophet\n",
    "from fbprophet.diagnostics import cross_validation\n",
    "from fbprophet.plot import add_changepoints_to_plot"
   ]
  },
  {
   "cell_type": "code",
   "execution_count": null,
   "metadata": {},
   "outputs": [],
   "source": [
    "#This function creates the forecast and plots it\n",
    "\n",
    "def plot_forecast(market, period, frequency):\n",
    "    model = fit_model_kwargs(market)\n",
    "    \n",
    "    future = model.make_future_dataframe(periods=period, freq=frequency)\n",
    "    forecast = model.predict(future)\n",
    "    forecast[['yhat', 'yhat_lower']] = forecast[['yhat', 'yhat_lower']].clip(0,)\n",
    "    \n",
    "    fig = model.plot_components(forecast)\n",
    "    fig = model.plot(forecast)\n",
    "    a = add_changepoints_to_plot(fig.gca(), model, forecast)"
   ]
  },
  {
   "cell_type": "code",
   "execution_count": null,
   "metadata": {},
   "outputs": [],
   "source": [
    "def get_test_val(x):\n",
    "    return round(len(get_df(x)) * grid[x]['initial'])"
   ]
  },
  {
   "cell_type": "code",
   "execution_count": null,
   "metadata": {},
   "outputs": [],
   "source": [
    "get_baseline_x_val('GBP')"
   ]
  },
  {
   "cell_type": "code",
   "execution_count": null,
   "metadata": {},
   "outputs": [],
   "source": [
    "\"\"\"\n",
    "Prophet(\n",
    "    growth='linear',\n",
    "    changepoints=None,\n",
    "    n_changepoints=25,\n",
    "    changepoint_range=0.8,\n",
    "    yearly_seasonality='auto',\n",
    "    weekly_seasonality='auto',\n",
    "    daily_seasonality='auto',\n",
    "    holidays=None,\n",
    "    seasonality_mode='additive',\n",
    "    seasonality_prior_scale=10.0,\n",
    "    holidays_prior_scale=10.0,\n",
    "    changepoint_prior_scale=0.05,\n",
    "    mcmc_samples=0,\n",
    "    interval_width=0.8,\n",
    "    uncertainty_samples=1000,\n",
    "    stan_backend=None,\n",
    "\"\"\""
   ]
  },
  {
   "cell_type": "code",
   "execution_count": null,
   "metadata": {},
   "outputs": [],
   "source": [
    "MM['AUD'].sort_values(ascending=False)"
   ]
  },
  {
   "cell_type": "code",
   "execution_count": null,
   "metadata": {},
   "outputs": [],
   "source": [
    "model_error_kwargs('AUD', 4, 13, 'W')"
   ]
  },
  {
   "cell_type": "code",
   "execution_count": null,
   "metadata": {},
   "outputs": [],
   "source": [
    "plot_forecast('AUD', 5, 'W')"
   ]
  },
  {
   "cell_type": "code",
   "execution_count": null,
   "metadata": {},
   "outputs": [],
   "source": [
    "#This function fits the model and creates the forecast\n",
    "\n",
    "def create_forecast(market, period, frequency):\n",
    "    model = fit_model(market)\n",
    "    \n",
    "    future = model.make_future_dataframe(periods=period, freq=frequency)\n",
    "    forecast = model.predict(future)\n",
    "    forecast[['yhat', 'yhat_lower']] = forecast[['yhat', 'yhat_lower']].clip(0,)\n",
    "    \n",
    "    return forecast\n"
   ]
  },
  {
   "cell_type": "code",
   "execution_count": null,
   "metadata": {},
   "outputs": [],
   "source": [
    "#This function fits the model\n",
    "\n",
    "def fit_model(market):\n",
    "    X = get_df(market)\n",
    "    model = Prophet(daily_seasonality=False, weekly_seasonality=False, \n",
    "                    holidays=covid, n_changepoints=25, changepoint_range=0.8, \n",
    "                    seasonality_mode='multiplicative', holidays_prior_scale=10.0, \n",
    "                    changepoint_prior_scale=10)\n",
    "    return model.fit(X)"
   ]
  },
  {
   "cell_type": "code",
   "execution_count": null,
   "metadata": {},
   "outputs": [],
   "source": [
    "#This function fits the model based on grid\n",
    "\n",
    "def fit_model_kwargs(market):\n",
    "    X = get_df(market)\n",
    "    if market in ['GBP', 'EUR', 'CAD', 'USD', 'AUD']:\n",
    "        X.loc[X['ds'] > '2020-03-02', 'y'] = None\n",
    "    model = Prophet(**grid[market]['params'])\n",
    "    return model.fit(X)"
   ]
  },
  {
   "cell_type": "code",
   "execution_count": null,
   "metadata": {},
   "outputs": [],
   "source": [
    "#Baseline grid\n",
    "grid = {'GBP':{'params':{'daily_seasonality':False, 'weekly_seasonality':False, \n",
    "             'holidays':None, 'n_changepoints':25, 'changepoint_range':0.8, \n",
    "             'seasonality_mode':'multiplicative', 'holidays_prior_scale':10.0, \n",
    "             'changepoint_prior_scale':0.5},\n",
    "               'initial':0.8},\n",
    "\n",
    "        'AUD':{'params':{'daily_seasonality':False, 'weekly_seasonality':False, \n",
    "                         'holidays':None, 'n_changepoints':35, \n",
    "                         'changepoint_range':0.7, 'seasonality_mode':'multiplicative', \n",
    "                         'holidays_prior_scale':10, 'seasonality_prior_scale':40, \n",
    "                         'changepoint_prior_scale':40},\n",
    "               'initial':0.8},\n",
    "\n",
    "        'CAD':{'params':{'daily_seasonality':False, 'weekly_seasonality':False, \n",
    "                         'holidays':None, 'n_changepoints':34, 'changepoint_range':0.85, \n",
    "                         'seasonality_mode':'multiplicative', 'seasonality_prior_scale':0.05, \n",
    "                         'holidays_prior_scale':10.0, 'changepoint_prior_scale':0.5},\n",
    "               'initial':0.8},\n",
    "\n",
    "        'EUR':{'params':{'daily_seasonality':False, 'weekly_seasonality':False, \n",
    "             'holidays':None, 'n_changepoints':34, 'changepoint_range':0.8, \n",
    "             'seasonality_mode':'multiplicative', 'holidays_prior_scale':10.0, \n",
    "             'changepoint_prior_scale':0.5},\n",
    "               'initial':0.8},\n",
    "\n",
    "        'JPY':{'params':{'daily_seasonality':False, 'weekly_seasonality':False, \n",
    "             'holidays':covid, 'n_changepoints':34, 'changepoint_range':0.8, \n",
    "             'seasonality_mode':'multiplicative', 'holidays_prior_scale':10.0, \n",
    "             'changepoint_prior_scale':0.05},\n",
    "               'initial':0.71},\n",
    "        \n",
    "        'SGD':{'params':{'daily_seasonality':False, 'weekly_seasonality':False, \n",
    "             'holidays':covid, 'n_changepoints':34, 'changepoint_range':0.8, \n",
    "             'seasonality_mode':'multiplicative', 'holidays_prior_scale':10.0, \n",
    "             'changepoint_prior_scale':5},\n",
    "               'initial':0.63},\n",
    "        \n",
    "        'HKD':{'params':{'daily_seasonality':False, 'weekly_seasonality':False, \n",
    "             'holidays':covid, 'n_changepoints':25, 'changepoint_range':0.6, \n",
    "             'seasonality_mode':'multiplicative', 'holidays_prior_scale':0.1, \n",
    "             'changepoint_prior_scale':20},\n",
    "               'initial':0.76},\n",
    "\n",
    "        'USD':{'params':{'daily_seasonality':False, 'weekly_seasonality':False, \n",
    "             'holidays':None, 'n_changepoints':34, 'changepoint_range':0.8, \n",
    "             'seasonality_mode':'multiplicative', 'holidays_prior_scale':10.0, \n",
    "             'changepoint_prior_scale':5},\n",
    "              'initial':0.86}}"
   ]
  },
  {
   "cell_type": "code",
   "execution_count": null,
   "metadata": {},
   "outputs": [],
   "source": [
    "#Holiday factor\n",
    "covid = pd.DataFrame({\n",
    "  'holiday': 'covid',\n",
    "  'ds': pd.to_datetime(['2020-03-23', '2020-03-16', '2020-03-09',\n",
    "                        '2020-03-02']),\n",
    "  'lower_window': 0,\n",
    "  'upper_window': 0,\n",
    "})"
   ]
  },
  {
   "cell_type": "code",
   "execution_count": null,
   "metadata": {},
   "outputs": [],
   "source": [
    "best_initials = [grid[i]['initial'] for i in grid.keys()]"
   ]
  },
  {
   "cell_type": "code",
   "execution_count": null,
   "metadata": {},
   "outputs": [],
   "source": [
    "best_initials"
   ]
  },
  {
   "cell_type": "code",
   "execution_count": null,
   "metadata": {},
   "outputs": [],
   "source": [
    "#This function fits the model & x-validates it\n",
    "\n",
    "def model_error(market, baseline_days, cutoff, fcst, units):\n",
    "    model = fit_model_kwargs(market, grid)\n",
    "\n",
    "    \n",
    "    cv_results = cross_validation(model=model, initial=pd.to_timedelta(baseline_days, unit=units), \n",
    "                              period=pd.to_timedelta(cutoff, unit=units), \n",
    "                              horizon=pd.to_timedelta(fcst, unit=units))\n",
    "    cv_results[['yhat', 'yhat_lower']] = cv_results[['yhat', 'yhat_lower']].clip(0,)\n",
    "    \n",
    "    mape = mean_absolute_percentage_error(cv_results.y, cv_results.yhat)\n",
    "    \n",
    "    return mape"
   ]
  },
  {
   "cell_type": "code",
   "execution_count": null,
   "metadata": {},
   "outputs": [],
   "source": [
    "##This function fits the model with particular grid & x-validates it\n",
    "def model_error_kwargs(market, cutoff, fcst, units):\n",
    "    model = fit_model_kwargs(market)\n",
    "\n",
    "    \n",
    "    cv_results = cross_validation(model=model, initial=pd.to_timedelta(get_test_val(market), unit=units), \n",
    "                              period=pd.to_timedelta(cutoff, unit=units), \n",
    "                              horizon=pd.to_timedelta(fcst, unit=units))\n",
    "    cv_results[['yhat', 'yhat_lower']] = cv_results[['yhat', 'yhat_lower']].clip(0,)\n",
    "    \n",
    "    mape = mean_absolute_percentage_error(cv_results.y, cv_results.yhat)\n",
    "    \n",
    "    return mape"
   ]
  },
  {
   "cell_type": "code",
   "execution_count": null,
   "metadata": {},
   "outputs": [],
   "source": [
    "#Having log transform\n",
    "for i in grid.keys():\n",
    "    result = model_error_kwargs(i, 4, 13, 'W')\n",
    "    print(f'{i} error is {result}')"
   ]
  },
  {
   "cell_type": "code",
   "execution_count": null,
   "metadata": {},
   "outputs": [],
   "source": [
    "for i in grid.keys():\n",
    "    result = model_error_kwargs(i, 5, 13, 'W')\n",
    "    print(f'{i} error is {result}')"
   ]
  },
  {
   "cell_type": "code",
   "execution_count": null,
   "metadata": {},
   "outputs": [],
   "source": [
    "model_error_kwargs('GBP', 208, 21, 21, 'W')"
   ]
  },
  {
   "cell_type": "code",
   "execution_count": null,
   "metadata": {},
   "outputs": [],
   "source": [
    "?Prophet.make_future_dataframe"
   ]
  },
  {
   "cell_type": "code",
   "execution_count": null,
   "metadata": {},
   "outputs": [],
   "source": [
    "#This function cross validates the forecasts based on certain baseline, cutoff\n",
    "#forecast and units ('M', 'W', 'D') desired to measure it\n",
    "\n",
    "def cross_val(baseline, cutoff, fcst, units):\n",
    "    cv_results = cross_validation(model=m, initial=pd.to_timedelta(baseline, unit=units), \n",
    "                              period=pd.to_timedelta(cutoff, unit=units), \n",
    "                              horizon=pd.to_timedelta(fcst, unit=units))\n",
    "    return cv_results"
   ]
  },
  {
   "cell_type": "code",
   "execution_count": null,
   "metadata": {},
   "outputs": [],
   "source": [
    "#Cross Validation\n",
    "\n",
    "from fbprophet.diagnostics import cross_validation\n",
    "\n",
    "cv_results = cross_validation(model=m, initial=pd.to_timedelta(208, unit=\"W\"), \n",
    "                              period=pd.to_timedelta(21, unit=\"W\"), \n",
    "                              horizon=pd.to_timedelta(21, unit=\"W\"))\n",
    "\n",
    "cv_results.head()"
   ]
  },
  {
   "cell_type": "code",
   "execution_count": null,
   "metadata": {},
   "outputs": [],
   "source": [
    "def mean_absolute_percentage_error(y_true, y_pred):\n",
    "    y_true, y_pred = np.array(y_true), np.array(y_pred)\n",
    "    return round(np.mean(np.abs((y_true - y_pred) / y_true)) * 100, 1)"
   ]
  },
  {
   "cell_type": "code",
   "execution_count": null,
   "metadata": {},
   "outputs": [],
   "source": [
    "mean_absolute_percentage_error(cv_results.y, cv_results.yhat)"
   ]
  },
  {
   "cell_type": "markdown",
   "metadata": {},
   "source": []
  },
  {
   "cell_type": "code",
   "execution_count": null,
   "metadata": {},
   "outputs": [],
   "source": [
    "?plot_cross_validation_metric"
   ]
  },
  {
   "cell_type": "code",
   "execution_count": null,
   "metadata": {},
   "outputs": [],
   "source": [
    "from fbprophet.diagnostics import performance_metrics\n",
    "from fbprophet.plot import plot_cross_validation_metric\n",
    "\n",
    "df_p = performance_metrics(cv_results)\n",
    "\n",
    "fig = plot_cross_validation_metric(cv_results, metric='mape')"
   ]
  },
  {
   "cell_type": "code",
   "execution_count": null,
   "metadata": {},
   "outputs": [],
   "source": [
    "?performance_metrics"
   ]
  },
  {
   "cell_type": "code",
   "execution_count": null,
   "metadata": {},
   "outputs": [],
   "source": [
    "from fbprophet.diagnostics import performance_metrics\n",
    "\n",
    "\n",
    "df_p = performance_metrics(cv_results)\n",
    "df_p"
   ]
  },
  {
   "cell_type": "code",
   "execution_count": null,
   "metadata": {},
   "outputs": [],
   "source": [
    "plot_forecast('JPY', 5, 'W')"
   ]
  },
  {
   "cell_type": "code",
   "execution_count": null,
   "metadata": {},
   "outputs": [],
   "source": [
    "for i in ['AUD', 'CAD', 'EUR', 'GBP', 'JPY', 'USD']:\n",
    "    create_forecast(i, 10, 'W')\n",
    "\n",
    "#create_forecast('CAD', 10, 'W')"
   ]
  },
  {
   "cell_type": "code",
   "execution_count": null,
   "metadata": {},
   "outputs": [],
   "source": [
    "from fbprophet.plot import add_changepoints_to_plot\n",
    "\n",
    "baseline = get_df('AUD')\n",
    "m = Prophet(seasonality_mode='multiplicative', changepoint_prior_scale=0.5)\n",
    "\n",
    "\n",
    "m.fit(baseline)\n",
    "futures = m.make_future_dataframe(periods=13, freq='W')\n",
    "forecast = m.predict(futures)\n",
    "#print(futures.tail(13))\n",
    "fig = m.plot(forecast)\n",
    "a = add_changepoints_to_plot(fig.gca(), m, forecast)"
   ]
  },
  {
   "cell_type": "code",
   "execution_count": null,
   "metadata": {},
   "outputs": [],
   "source": [
    "print(m.changepoints)"
   ]
  },
  {
   "cell_type": "code",
   "execution_count": null,
   "metadata": {},
   "outputs": [],
   "source": [
    "from fbprophet.diagnostics import performance_metrics\n",
    "df_p = performance_metrics(df_cv)\n",
    "df_p.head()\n"
   ]
  },
  {
   "cell_type": "code",
   "execution_count": null,
   "metadata": {},
   "outputs": [],
   "source": []
  },
  {
   "cell_type": "markdown",
   "metadata": {},
   "source": [
    "## Cleaning Data"
   ]
  }
 ],
 "metadata": {
  "kernelspec": {
   "display_name": "Python [conda env:final-project]",
   "language": "python",
   "name": "conda-env-final-project-py"
  },
  "language_info": {
   "codemirror_mode": {
    "name": "ipython",
    "version": 3
   },
   "file_extension": ".py",
   "mimetype": "text/x-python",
   "name": "python",
   "nbconvert_exporter": "python",
   "pygments_lexer": "ipython3",
   "version": "3.7.5"
  }
 },
 "nbformat": 4,
 "nbformat_minor": 4
}
