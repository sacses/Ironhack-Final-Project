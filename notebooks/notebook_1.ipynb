{
 "cells": [
  {
   "cell_type": "markdown",
   "metadata": {},
   "source": [
    "## Acquiring the data"
   ]
  },
  {
   "cell_type": "code",
   "execution_count": 2,
   "metadata": {},
   "outputs": [],
   "source": [
    "import numpy as np\n",
    "import pandas as pd\n",
    "import glob\n",
    "\n",
    "#Adding relative path name to data variable. Dataset suffix is data when it's available\n",
    "\n",
    "data = [i for i in glob.glob('../data/data*.csv')]\n",
    "    \n",
    "#Rows skipped to avoid additional cleaning, dates parsed and date used as the index\n",
    "\n",
    "MM = pd.read_csv(data[0], skiprows=[1, 483], header= 0, \n",
    "                 na_values=0, parse_dates=['Payouts Payout Currency'], \n",
    "                 index_col='Payouts Payout Currency').rename_axis(None)"
   ]
  },
  {
   "cell_type": "code",
   "execution_count": 3,
   "metadata": {},
   "outputs": [],
   "source": [
    "pd.set_option('display.max_rows', None)\n",
    "pd.set_option('display.max_columns', None)"
   ]
  },
  {
   "cell_type": "code",
   "execution_count": 3,
   "metadata": {},
   "outputs": [],
   "source": [
    "#This function sets the beginning of the time series based on first 3 consecutives weeks without FX MM\n",
    "def series_begins(x):\n",
    "    nan_index = x.index[x.isnull()]\n",
    "    for i in range(0,len(nan_index)):\n",
    "        upper = i + 2\n",
    "        difference = nan_index[i] - nan_index[(upper)]\n",
    "        if difference.days == 14:\n",
    "            return nan_index[i]\n"
   ]
  },
  {
   "cell_type": "code",
   "execution_count": null,
   "metadata": {},
   "outputs": [],
   "source": [
    "MM['KRW'].loc[series_ends(MM['KRW']):].index[MM['KRW'].loc[series_ends(MM['KRW']):].isnull()]"
   ]
  },
  {
   "cell_type": "code",
   "execution_count": null,
   "metadata": {},
   "outputs": [],
   "source": [
    "#This function sets the end of the time series based on last 2 consecutives weeks with FX MM\n",
    "def series_ends(x):\n",
    "    notnan_index = x.index[x.notna()]\n",
    "    for i in range(0,len(notnan_index)):\n",
    "        notnan_upper = i + 1\n",
    "        notnan_difference = notnan_index[i] - notnan_index[(notnan_upper)]\n",
    "        if notnan_difference.days == 7:\n",
    "            return notnan_index[i]"
   ]
  },
  {
   "cell_type": "code",
   "execution_count": null,
   "metadata": {},
   "outputs": [],
   "source": [
    "def series_ends_begins(x):\n",
    "    ends_begins = []\n",
    "    notnan_index = x.index[x.notna()]\n",
    "    for i in range(0,len(notnan_index)):\n",
    "        notnan_upper = i + 1\n",
    "        notnan_difference = notnan_index[i] - notnan_index[(notnan_upper)]\n",
    "        if notnan_difference.days == 7:\n",
    "            ends_begins.append(notnan_index[i])\n",
    "            nan_index = x.loc[ends_begins[0]:].index[x.loc[ends_begins[0]:].isnull()]\n",
    "            for i in range(0,len(nan_index)):\n",
    "                upper = i + 2\n",
    "                difference = nan_index[i] - nan_index[(upper)]\n",
    "                if difference.days == 14:\n",
    "                    ends_begins.append(nan_index[i])\n",
    "                    return ends_begins\n",
    "                \n",
    "                \n",
    "type(series_ends_begins(MM['GBP']))"
   ]
  },
  {
   "cell_type": "code",
   "execution_count": 4,
   "metadata": {},
   "outputs": [],
   "source": [
    "\"\"\"\n",
    "This function lists the end, based on last 2 consecutives weeks with FX MM\n",
    "and the start, based on on first 3 consecutives weeks without FX MM, of the timeseries.\n",
    "\"\"\"\n",
    "\n",
    "\n",
    "def series_end_start(x):\n",
    "    end_start = [0,0]\n",
    "    notnan_index = x.index[x.notna()]\n",
    "    for i in range(0,len(notnan_index)):\n",
    "        notnan_upper = i + 1\n",
    "        notnan_difference = notnan_index[i] - notnan_index[(notnan_upper)]\n",
    "        if notnan_difference.days == 7:\n",
    "            end_start[0] = notnan_index[i]\n",
    "            nan_index = x.loc[end_start[0]:].index[x.loc[end_start[0]:].isnull()]\n",
    "            for i in range(0,len(nan_index)):\n",
    "                upper = i + 2\n",
    "                difference = nan_index[i] - nan_index[(upper)]\n",
    "                if difference.days == 14:\n",
    "                    end_start[1] = nan_index[i]\n",
    "                    return end_start"
   ]
  },
  {
   "cell_type": "code",
   "execution_count": null,
   "metadata": {},
   "outputs": [],
   "source": [
    "series_end_start(MM['PEN'])"
   ]
  },
  {
   "cell_type": "code",
   "execution_count": null,
   "metadata": {},
   "outputs": [],
   "source": [
    "series_ends_begins(MM['KRW'])"
   ]
  },
  {
   "cell_type": "code",
   "execution_count": null,
   "metadata": {},
   "outputs": [],
   "source": [
    "series = [0,0]\n",
    "series[1] = 1\n",
    "series"
   ]
  },
  {
   "cell_type": "code",
   "execution_count": null,
   "metadata": {},
   "outputs": [],
   "source": []
  },
  {
   "cell_type": "code",
   "execution_count": null,
   "metadata": {},
   "outputs": [],
   "source": [
    "#Beginning dates are passed on a dictionary per feature in the data set\n",
    "\n",
    "dict_series_begings = {i:series_begins(MM[i]) for i in MM.columns}"
   ]
  },
  {
   "cell_type": "code",
   "execution_count": 5,
   "metadata": {},
   "outputs": [],
   "source": [
    "#Series end and start dates are passed on to dictionary\n",
    "\n",
    "dict_series_end_start = {i:series_end_start(MM[i]) for i in MM.columns}"
   ]
  },
  {
   "cell_type": "code",
   "execution_count": 74,
   "metadata": {},
   "outputs": [
    {
     "data": {
      "text/plain": [
       "{'AED': [Timestamp('2020-03-23 00:00:00'), Timestamp('2015-11-09 00:00:00')],\n",
       " 'AUD': [Timestamp('2020-03-23 00:00:00'), Timestamp('2013-12-23 00:00:00')],\n",
       " 'CAD': [Timestamp('2020-03-23 00:00:00'), Timestamp('2013-12-23 00:00:00')],\n",
       " 'CHF': [Timestamp('2020-03-23 00:00:00'), Timestamp('2015-10-19 00:00:00')],\n",
       " 'CNY': [Timestamp('2020-03-23 00:00:00'), Timestamp('2017-07-10 00:00:00')],\n",
       " 'CZK': [Timestamp('2020-03-16 00:00:00'), Timestamp('2020-02-17 00:00:00')],\n",
       " 'EUR': [Timestamp('2020-03-23 00:00:00'), Timestamp('2013-12-23 00:00:00')],\n",
       " 'GBP': [Timestamp('2020-03-23 00:00:00'), Timestamp('2013-12-30 00:00:00')],\n",
       " 'HKD': [Timestamp('2020-03-23 00:00:00'), Timestamp('2015-03-09 00:00:00')],\n",
       " 'JPY': [Timestamp('2020-03-23 00:00:00'), Timestamp('2015-12-14 00:00:00')],\n",
       " 'KRW': [Timestamp('2020-02-10 00:00:00'), Timestamp('2019-12-30 00:00:00')],\n",
       " 'MYR': [Timestamp('2020-03-23 00:00:00'), Timestamp('2017-10-23 00:00:00')],\n",
       " 'NOK': [Timestamp('2020-03-23 00:00:00'), Timestamp('2018-07-23 00:00:00')],\n",
       " 'NZD': [Timestamp('2020-03-23 00:00:00'), Timestamp('2017-11-13 00:00:00')],\n",
       " 'PEN': None,\n",
       " 'SAR': None,\n",
       " 'SEK': [Timestamp('2020-03-23 00:00:00'), Timestamp('2019-03-11 00:00:00')],\n",
       " 'SGD': [Timestamp('2020-03-23 00:00:00'), Timestamp('2016-11-14 00:00:00')],\n",
       " 'THB': [Timestamp('2019-11-25 00:00:00'), Timestamp('2018-08-20 00:00:00')],\n",
       " 'USD': [Timestamp('2020-03-23 00:00:00'), Timestamp('2011-03-07 00:00:00')],\n",
       " 'ZAR': [Timestamp('2020-03-23 00:00:00'), Timestamp('2020-02-17 00:00:00')]}"
      ]
     },
     "execution_count": 74,
     "metadata": {},
     "output_type": "execute_result"
    }
   ],
   "source": [
    "dict_series_end_start"
   ]
  },
  {
   "cell_type": "code",
   "execution_count": null,
   "metadata": {},
   "outputs": [],
   "source": [
    "MM.loc[dict_series_end_start['USD'][0]:dict_series_end_start['USD'][1],'USD'].iloc[:-1]"
   ]
  },
  {
   "cell_type": "code",
   "execution_count": 6,
   "metadata": {},
   "outputs": [],
   "source": [
    "#The function creates a data frame bounded by the end and start of the series\n",
    "\n",
    "def get_df(x):\n",
    "    try:\n",
    "        series = MM.loc[dict_series_end_start[x][0]:dict_series_end_start[x][1],x].iloc[:-1].fillna(0)\n",
    "        df_output = series.reset_index().rename({'index':'ds', x:'y'}, axis=1)\n",
    "        return df_output\n",
    "    except:\n",
    "        return print(f\"There isn't enough historic data to predict {x} volumes or {x} is not a valid market.\")"
   ]
  },
  {
   "cell_type": "code",
   "execution_count": null,
   "metadata": {},
   "outputs": [],
   "source": [
    "get_df('GUA')"
   ]
  },
  {
   "cell_type": "code",
   "execution_count": null,
   "metadata": {},
   "outputs": [],
   "source": []
  },
  {
   "cell_type": "code",
   "execution_count": 7,
   "metadata": {},
   "outputs": [],
   "source": [
    "from matplotlib import pyplot as plt\n",
    "from fbprophet import Prophet\n",
    "from fbprophet.diagnostics import cross_validation"
   ]
  },
  {
   "cell_type": "code",
   "execution_count": 49,
   "metadata": {},
   "outputs": [],
   "source": [
    "#This function creates the forecast and plots it\n",
    "\n",
    "def plot_forecast(market, period, frequency):\n",
    "    model = create_forecast(market, period, frequency)\n",
    "    \n",
    "    model.plot(forecast)\n",
    "    a = add_changepoints_to_plot(fig.gca(), model, forecast)"
   ]
  },
  {
   "cell_type": "code",
   "execution_count": null,
   "metadata": {},
   "outputs": [],
   "source": [
    "plot_forecast()"
   ]
  },
  {
   "cell_type": "code",
   "execution_count": 50,
   "metadata": {},
   "outputs": [],
   "source": [
    "#This function fits the model and creates the forecast\n",
    "\n",
    "def create_forecast(market, period, frequency):\n",
    "    model = fit_model(market)\n",
    "    \n",
    "    future = model.make_future_dataframe(periods=period, freq=frequency)\n",
    "    forecast = model.predict(future)\n",
    "    return forecast\n"
   ]
  },
  {
   "cell_type": "code",
   "execution_count": 51,
   "metadata": {},
   "outputs": [],
   "source": [
    "#This function fits the model\n",
    "\n",
    "def fit_model(market):\n",
    "    X = get_df(market)\n",
    "    model = Prophet(seasonality_mode='multiplicative', changepoint_prior_scale=0.5)\n",
    "    return model.fit(X)"
   ]
  },
  {
   "cell_type": "code",
   "execution_count": 52,
   "metadata": {},
   "outputs": [],
   "source": [
    "#This function fits the model & x-validates it\n",
    "\n",
    "def model_error(market, baseline, cutoff, fcst, units):\n",
    "    model = fit_model(market)\n",
    "\n",
    "    \n",
    "    cv_results = cross_validation(model=model, initial=pd.to_timedelta(baseline, unit=units), \n",
    "                              period=pd.to_timedelta(cutoff, unit=units), \n",
    "                              horizon=pd.to_timedelta(fcst, unit=units))\n",
    "    \n",
    "    mape = mean_absolute_percentage_error(cv_results.y, cv_results.yhat)\n",
    "    \n",
    "    return mape"
   ]
  },
  {
   "cell_type": "code",
   "execution_count": 55,
   "metadata": {},
   "outputs": [
    {
     "name": "stderr",
     "output_type": "stream",
     "text": [
      "INFO:fbprophet:Disabling weekly seasonality. Run prophet with weekly_seasonality=True to override this.\n",
      "INFO:fbprophet:Disabling daily seasonality. Run prophet with daily_seasonality=True to override this.\n",
      "INFO:fbprophet:Making 5 forecasts with cutoffs between 2018-03-19 00:00:00 and 2019-10-28 00:00:00\n",
      "INFO:fbprophet:Disabling weekly seasonality. Run prophet with weekly_seasonality=True to override this.\n",
      "INFO:fbprophet:Disabling daily seasonality. Run prophet with daily_seasonality=True to override this.\n"
     ]
    },
    {
     "name": "stdout",
     "output_type": "stream",
     "text": [
      "AUD error is 25.355076502310215\n"
     ]
    },
    {
     "name": "stderr",
     "output_type": "stream",
     "text": [
      "INFO:fbprophet:Making 5 forecasts with cutoffs between 2018-03-19 00:00:00 and 2019-10-28 00:00:00\n",
      "INFO:fbprophet:Disabling weekly seasonality. Run prophet with weekly_seasonality=True to override this.\n",
      "INFO:fbprophet:Disabling daily seasonality. Run prophet with daily_seasonality=True to override this.\n"
     ]
    },
    {
     "name": "stdout",
     "output_type": "stream",
     "text": [
      "CAD error is 24.549439202469138\n"
     ]
    },
    {
     "name": "stderr",
     "output_type": "stream",
     "text": [
      "INFO:fbprophet:Making 5 forecasts with cutoffs between 2018-03-19 00:00:00 and 2019-10-28 00:00:00\n",
      "INFO:fbprophet:Disabling weekly seasonality. Run prophet with weekly_seasonality=True to override this.\n",
      "INFO:fbprophet:Disabling daily seasonality. Run prophet with daily_seasonality=True to override this.\n"
     ]
    },
    {
     "name": "stdout",
     "output_type": "stream",
     "text": [
      "EUR error is 19.29578228594588\n"
     ]
    },
    {
     "name": "stderr",
     "output_type": "stream",
     "text": [
      "INFO:fbprophet:Making 5 forecasts with cutoffs between 2018-03-19 00:00:00 and 2019-10-28 00:00:00\n",
      "INFO:fbprophet:Disabling weekly seasonality. Run prophet with weekly_seasonality=True to override this.\n",
      "INFO:fbprophet:Disabling daily seasonality. Run prophet with daily_seasonality=True to override this.\n"
     ]
    },
    {
     "name": "stdout",
     "output_type": "stream",
     "text": [
      "GBP error is 15.933757521637087\n"
     ]
    },
    {
     "ename": "ValueError",
     "evalue": "Less data than horizon after initial window. Make horizon or initial shorter.",
     "output_type": "error",
     "traceback": [
      "\u001b[0;31m---------------------------------------------------------------------------\u001b[0m",
      "\u001b[0;31mValueError\u001b[0m                                Traceback (most recent call last)",
      "\u001b[0;32m<ipython-input-55-7a7bd15433ce>\u001b[0m in \u001b[0;36m<module>\u001b[0;34m\u001b[0m\n\u001b[1;32m      1\u001b[0m \u001b[0;32mfor\u001b[0m \u001b[0mi\u001b[0m \u001b[0;32min\u001b[0m \u001b[0;34m[\u001b[0m\u001b[0;34m'AUD'\u001b[0m\u001b[0;34m,\u001b[0m \u001b[0;34m'CAD'\u001b[0m\u001b[0;34m,\u001b[0m \u001b[0;34m'EUR'\u001b[0m\u001b[0;34m,\u001b[0m \u001b[0;34m'GBP'\u001b[0m\u001b[0;34m,\u001b[0m \u001b[0;34m'JPY'\u001b[0m\u001b[0;34m,\u001b[0m \u001b[0;34m'USD'\u001b[0m\u001b[0;34m]\u001b[0m\u001b[0;34m:\u001b[0m\u001b[0;34m\u001b[0m\u001b[0;34m\u001b[0m\u001b[0m\n\u001b[0;32m----> 2\u001b[0;31m     \u001b[0mresult\u001b[0m \u001b[0;34m=\u001b[0m \u001b[0mmodel_error\u001b[0m\u001b[0;34m(\u001b[0m\u001b[0mi\u001b[0m\u001b[0;34m,\u001b[0m \u001b[0;36m208\u001b[0m\u001b[0;34m,\u001b[0m \u001b[0;36m21\u001b[0m\u001b[0;34m,\u001b[0m \u001b[0;36m21\u001b[0m\u001b[0;34m,\u001b[0m \u001b[0;34m'W'\u001b[0m\u001b[0;34m)\u001b[0m\u001b[0;34m\u001b[0m\u001b[0;34m\u001b[0m\u001b[0m\n\u001b[0m\u001b[1;32m      3\u001b[0m     \u001b[0mprint\u001b[0m\u001b[0;34m(\u001b[0m\u001b[0;34mf'{i} error is {result}'\u001b[0m\u001b[0;34m)\u001b[0m\u001b[0;34m\u001b[0m\u001b[0;34m\u001b[0m\u001b[0m\n",
      "\u001b[0;32m<ipython-input-52-7013ad3d9385>\u001b[0m in \u001b[0;36mmodel_error\u001b[0;34m(market, baseline, cutoff, fcst, units)\u001b[0m\n\u001b[1;32m      7\u001b[0m     cv_results = cross_validation(model=model, initial=pd.to_timedelta(baseline, unit=units), \n\u001b[1;32m      8\u001b[0m                               \u001b[0mperiod\u001b[0m\u001b[0;34m=\u001b[0m\u001b[0mpd\u001b[0m\u001b[0;34m.\u001b[0m\u001b[0mto_timedelta\u001b[0m\u001b[0;34m(\u001b[0m\u001b[0mcutoff\u001b[0m\u001b[0;34m,\u001b[0m \u001b[0munit\u001b[0m\u001b[0;34m=\u001b[0m\u001b[0munits\u001b[0m\u001b[0;34m)\u001b[0m\u001b[0;34m,\u001b[0m\u001b[0;34m\u001b[0m\u001b[0;34m\u001b[0m\u001b[0m\n\u001b[0;32m----> 9\u001b[0;31m                               horizon=pd.to_timedelta(fcst, unit=units))\n\u001b[0m\u001b[1;32m     10\u001b[0m \u001b[0;34m\u001b[0m\u001b[0m\n\u001b[1;32m     11\u001b[0m     \u001b[0mmape\u001b[0m \u001b[0;34m=\u001b[0m \u001b[0mmean_absolute_percentage_error\u001b[0m\u001b[0;34m(\u001b[0m\u001b[0mcv_results\u001b[0m\u001b[0;34m.\u001b[0m\u001b[0my\u001b[0m\u001b[0;34m,\u001b[0m \u001b[0mcv_results\u001b[0m\u001b[0;34m.\u001b[0m\u001b[0myhat\u001b[0m\u001b[0;34m)\u001b[0m\u001b[0;34m\u001b[0m\u001b[0;34m\u001b[0m\u001b[0m\n",
      "\u001b[0;32m~/miniconda3/envs/final-project/lib/python3.7/site-packages/fbprophet/diagnostics.py\u001b[0m in \u001b[0;36mcross_validation\u001b[0;34m(model, horizon, period, initial)\u001b[0m\n\u001b[1;32m    106\u001b[0m         \u001b[0mpredict_columns\u001b[0m\u001b[0;34m.\u001b[0m\u001b[0mextend\u001b[0m\u001b[0;34m(\u001b[0m\u001b[0;34m[\u001b[0m\u001b[0;34m'yhat_lower'\u001b[0m\u001b[0;34m,\u001b[0m \u001b[0;34m'yhat_upper'\u001b[0m\u001b[0;34m]\u001b[0m\u001b[0;34m)\u001b[0m\u001b[0;34m\u001b[0m\u001b[0;34m\u001b[0m\u001b[0m\n\u001b[1;32m    107\u001b[0m \u001b[0;34m\u001b[0m\u001b[0m\n\u001b[0;32m--> 108\u001b[0;31m     \u001b[0mcutoffs\u001b[0m \u001b[0;34m=\u001b[0m \u001b[0mgenerate_cutoffs\u001b[0m\u001b[0;34m(\u001b[0m\u001b[0mdf\u001b[0m\u001b[0;34m,\u001b[0m \u001b[0mhorizon\u001b[0m\u001b[0;34m,\u001b[0m \u001b[0minitial\u001b[0m\u001b[0;34m,\u001b[0m \u001b[0mperiod\u001b[0m\u001b[0;34m)\u001b[0m\u001b[0;34m\u001b[0m\u001b[0;34m\u001b[0m\u001b[0m\n\u001b[0m\u001b[1;32m    109\u001b[0m     \u001b[0mpredicts\u001b[0m \u001b[0;34m=\u001b[0m \u001b[0;34m[\u001b[0m\u001b[0;34m]\u001b[0m\u001b[0;34m\u001b[0m\u001b[0;34m\u001b[0m\u001b[0m\n\u001b[1;32m    110\u001b[0m     \u001b[0;32mfor\u001b[0m \u001b[0mcutoff\u001b[0m \u001b[0;32min\u001b[0m \u001b[0mcutoffs\u001b[0m\u001b[0;34m:\u001b[0m\u001b[0;34m\u001b[0m\u001b[0;34m\u001b[0m\u001b[0m\n",
      "\u001b[0;32m~/miniconda3/envs/final-project/lib/python3.7/site-packages/fbprophet/diagnostics.py\u001b[0m in \u001b[0;36mgenerate_cutoffs\u001b[0;34m(df, horizon, initial, period)\u001b[0m\n\u001b[1;32m     49\u001b[0m     \u001b[0;32mif\u001b[0m \u001b[0mlen\u001b[0m\u001b[0;34m(\u001b[0m\u001b[0mresult\u001b[0m\u001b[0;34m)\u001b[0m \u001b[0;34m==\u001b[0m \u001b[0;36m0\u001b[0m\u001b[0;34m:\u001b[0m\u001b[0;34m\u001b[0m\u001b[0;34m\u001b[0m\u001b[0m\n\u001b[1;32m     50\u001b[0m         raise ValueError(\n\u001b[0;32m---> 51\u001b[0;31m             \u001b[0;34m'Less data than horizon after initial window. '\u001b[0m\u001b[0;34m\u001b[0m\u001b[0;34m\u001b[0m\u001b[0m\n\u001b[0m\u001b[1;32m     52\u001b[0m             \u001b[0;34m'Make horizon or initial shorter.'\u001b[0m\u001b[0;34m\u001b[0m\u001b[0;34m\u001b[0m\u001b[0m\n\u001b[1;32m     53\u001b[0m         )\n",
      "\u001b[0;31mValueError\u001b[0m: Less data than horizon after initial window. Make horizon or initial shorter."
     ]
    }
   ],
   "source": [
    "for i in ['AUD', 'CAD', 'EUR', 'GBP', 'JPY', 'USD']:\n",
    "    result = model_error(i, 208, 21, 21, 'W')\n",
    "    print(f'{i} error is {result}')"
   ]
  },
  {
   "cell_type": "code",
   "execution_count": 53,
   "metadata": {},
   "outputs": [
    {
     "name": "stderr",
     "output_type": "stream",
     "text": [
      "INFO:fbprophet:Disabling weekly seasonality. Run prophet with weekly_seasonality=True to override this.\n",
      "INFO:fbprophet:Disabling daily seasonality. Run prophet with daily_seasonality=True to override this.\n",
      "INFO:fbprophet:Making 5 forecasts with cutoffs between 2018-03-19 00:00:00 and 2019-10-28 00:00:00\n"
     ]
    },
    {
     "data": {
      "text/plain": [
       "15.933757521637087"
      ]
     },
     "execution_count": 53,
     "metadata": {},
     "output_type": "execute_result"
    }
   ],
   "source": [
    "model_error('GBP', 208, 21, 21, 'W')"
   ]
  },
  {
   "cell_type": "code",
   "execution_count": 36,
   "metadata": {},
   "outputs": [
    {
     "data": {
      "text/plain": [
       "\u001b[0;31mSignature:\u001b[0m\n",
       "\u001b[0mProphet\u001b[0m\u001b[0;34m.\u001b[0m\u001b[0mmake_future_dataframe\u001b[0m\u001b[0;34m(\u001b[0m\u001b[0;34m\u001b[0m\n",
       "\u001b[0;34m\u001b[0m    \u001b[0mself\u001b[0m\u001b[0;34m,\u001b[0m\u001b[0;34m\u001b[0m\n",
       "\u001b[0;34m\u001b[0m    \u001b[0mperiods\u001b[0m\u001b[0;34m,\u001b[0m\u001b[0;34m\u001b[0m\n",
       "\u001b[0;34m\u001b[0m    \u001b[0mfreq\u001b[0m\u001b[0;34m=\u001b[0m\u001b[0;34m'D'\u001b[0m\u001b[0;34m,\u001b[0m\u001b[0;34m\u001b[0m\n",
       "\u001b[0;34m\u001b[0m    \u001b[0minclude_history\u001b[0m\u001b[0;34m=\u001b[0m\u001b[0;32mTrue\u001b[0m\u001b[0;34m,\u001b[0m\u001b[0;34m\u001b[0m\n",
       "\u001b[0;34m\u001b[0m\u001b[0;34m)\u001b[0m\u001b[0;34m\u001b[0m\u001b[0;34m\u001b[0m\u001b[0m\n",
       "\u001b[0;31mDocstring:\u001b[0m\n",
       "Simulate the trend using the extrapolated generative model.\n",
       "\n",
       "Parameters\n",
       "----------\n",
       "periods: Int number of periods to forecast forward.\n",
       "freq: Any valid frequency for pd.date_range, such as 'D' or 'M'.\n",
       "include_history: Boolean to include the historical dates in the data\n",
       "    frame for predictions.\n",
       "\n",
       "Returns\n",
       "-------\n",
       "pd.Dataframe that extends forward from the end of self.history for the\n",
       "requested number of periods.\n",
       "\u001b[0;31mFile:\u001b[0m      ~/miniconda3/envs/final-project/lib/python3.7/site-packages/fbprophet/forecaster.py\n",
       "\u001b[0;31mType:\u001b[0m      function\n"
      ]
     },
     "metadata": {},
     "output_type": "display_data"
    }
   ],
   "source": [
    "?Prophet.make_future_dataframe"
   ]
  },
  {
   "cell_type": "code",
   "execution_count": 10,
   "metadata": {},
   "outputs": [],
   "source": [
    "#This function cross validates the forecasts based on certain baseline, cutoff\n",
    "#forecast and units ('M', 'W', 'D') desired to measure it\n",
    "\n",
    "def cross_val(baseline, cutoff, fcst, units):\n",
    "    cv_results = cross_validation(model=m, initial=pd.to_timedelta(baseline, unit=units), \n",
    "                              period=pd.to_timedelta(cutoff, unit=units), \n",
    "                              horizon=pd.to_timedelta(fcst, unit=units))\n",
    "    return cv_results"
   ]
  },
  {
   "cell_type": "code",
   "execution_count": 41,
   "metadata": {},
   "outputs": [
    {
     "name": "stderr",
     "output_type": "stream",
     "text": [
      "INFO:fbprophet:Making 5 forecasts with cutoffs between 2018-03-19 00:00:00 and 2019-10-28 00:00:00\n"
     ]
    },
    {
     "data": {
      "text/html": [
       "<div>\n",
       "<style scoped>\n",
       "    .dataframe tbody tr th:only-of-type {\n",
       "        vertical-align: middle;\n",
       "    }\n",
       "\n",
       "    .dataframe tbody tr th {\n",
       "        vertical-align: top;\n",
       "    }\n",
       "\n",
       "    .dataframe thead th {\n",
       "        text-align: right;\n",
       "    }\n",
       "</style>\n",
       "<table border=\"1\" class=\"dataframe\">\n",
       "  <thead>\n",
       "    <tr style=\"text-align: right;\">\n",
       "      <th></th>\n",
       "      <th>ds</th>\n",
       "      <th>yhat</th>\n",
       "      <th>yhat_lower</th>\n",
       "      <th>yhat_upper</th>\n",
       "      <th>y</th>\n",
       "      <th>cutoff</th>\n",
       "    </tr>\n",
       "  </thead>\n",
       "  <tbody>\n",
       "    <tr>\n",
       "      <th>0</th>\n",
       "      <td>2018-03-26</td>\n",
       "      <td>1.765426e+06</td>\n",
       "      <td>1.401078e+06</td>\n",
       "      <td>2.123219e+06</td>\n",
       "      <td>1.912758e+06</td>\n",
       "      <td>2018-03-19</td>\n",
       "    </tr>\n",
       "    <tr>\n",
       "      <th>1</th>\n",
       "      <td>2018-04-02</td>\n",
       "      <td>1.865967e+06</td>\n",
       "      <td>1.507426e+06</td>\n",
       "      <td>2.222139e+06</td>\n",
       "      <td>1.623199e+06</td>\n",
       "      <td>2018-03-19</td>\n",
       "    </tr>\n",
       "    <tr>\n",
       "      <th>2</th>\n",
       "      <td>2018-04-09</td>\n",
       "      <td>1.867223e+06</td>\n",
       "      <td>1.498435e+06</td>\n",
       "      <td>2.258011e+06</td>\n",
       "      <td>1.819793e+06</td>\n",
       "      <td>2018-03-19</td>\n",
       "    </tr>\n",
       "    <tr>\n",
       "      <th>3</th>\n",
       "      <td>2018-04-16</td>\n",
       "      <td>1.846737e+06</td>\n",
       "      <td>1.488757e+06</td>\n",
       "      <td>2.210826e+06</td>\n",
       "      <td>1.839404e+06</td>\n",
       "      <td>2018-03-19</td>\n",
       "    </tr>\n",
       "    <tr>\n",
       "      <th>4</th>\n",
       "      <td>2018-04-23</td>\n",
       "      <td>2.040787e+06</td>\n",
       "      <td>1.679379e+06</td>\n",
       "      <td>2.366935e+06</td>\n",
       "      <td>2.134303e+06</td>\n",
       "      <td>2018-03-19</td>\n",
       "    </tr>\n",
       "  </tbody>\n",
       "</table>\n",
       "</div>"
      ],
      "text/plain": [
       "          ds          yhat    yhat_lower    yhat_upper             y  \\\n",
       "0 2018-03-26  1.765426e+06  1.401078e+06  2.123219e+06  1.912758e+06   \n",
       "1 2018-04-02  1.865967e+06  1.507426e+06  2.222139e+06  1.623199e+06   \n",
       "2 2018-04-09  1.867223e+06  1.498435e+06  2.258011e+06  1.819793e+06   \n",
       "3 2018-04-16  1.846737e+06  1.488757e+06  2.210826e+06  1.839404e+06   \n",
       "4 2018-04-23  2.040787e+06  1.679379e+06  2.366935e+06  2.134303e+06   \n",
       "\n",
       "      cutoff  \n",
       "0 2018-03-19  \n",
       "1 2018-03-19  \n",
       "2 2018-03-19  \n",
       "3 2018-03-19  \n",
       "4 2018-03-19  "
      ]
     },
     "execution_count": 41,
     "metadata": {},
     "output_type": "execute_result"
    }
   ],
   "source": [
    "#Cross Validation\n",
    "\n",
    "from fbprophet.diagnostics import cross_validation\n",
    "\n",
    "cv_results = cross_validation(model=m, initial=pd.to_timedelta(208, unit=\"W\"), \n",
    "                              period=pd.to_timedelta(21, unit=\"W\"), \n",
    "                              horizon=pd.to_timedelta(21, unit=\"W\"))\n",
    "\n",
    "cv_results.head()"
   ]
  },
  {
   "cell_type": "code",
   "execution_count": 14,
   "metadata": {},
   "outputs": [],
   "source": [
    "def mean_absolute_percentage_error(y_true, y_pred):\n",
    "    y_true, y_pred = np.array(y_true), np.array(y_pred)\n",
    "    return np.mean(np.abs((y_true - y_pred) / y_true)) * 100"
   ]
  },
  {
   "cell_type": "code",
   "execution_count": 42,
   "metadata": {},
   "outputs": [
    {
     "data": {
      "text/plain": [
       "25.355076502310215"
      ]
     },
     "execution_count": 42,
     "metadata": {},
     "output_type": "execute_result"
    }
   ],
   "source": [
    "mean_absolute_percentage_error(cv_results.y, cv_results.yhat)"
   ]
  },
  {
   "cell_type": "markdown",
   "metadata": {},
   "source": []
  },
  {
   "cell_type": "code",
   "execution_count": 63,
   "metadata": {},
   "outputs": [
    {
     "data": {
      "text/plain": [
       "\u001b[0;31mSignature:\u001b[0m\n",
       "\u001b[0mplot_cross_validation_metric\u001b[0m\u001b[0;34m(\u001b[0m\u001b[0;34m\u001b[0m\n",
       "\u001b[0;34m\u001b[0m    \u001b[0mdf_cv\u001b[0m\u001b[0;34m,\u001b[0m\u001b[0;34m\u001b[0m\n",
       "\u001b[0;34m\u001b[0m    \u001b[0mmetric\u001b[0m\u001b[0;34m,\u001b[0m\u001b[0;34m\u001b[0m\n",
       "\u001b[0;34m\u001b[0m    \u001b[0mrolling_window\u001b[0m\u001b[0;34m=\u001b[0m\u001b[0;36m0.1\u001b[0m\u001b[0;34m,\u001b[0m\u001b[0;34m\u001b[0m\n",
       "\u001b[0;34m\u001b[0m    \u001b[0max\u001b[0m\u001b[0;34m=\u001b[0m\u001b[0;32mNone\u001b[0m\u001b[0;34m,\u001b[0m\u001b[0;34m\u001b[0m\n",
       "\u001b[0;34m\u001b[0m    \u001b[0mfigsize\u001b[0m\u001b[0;34m=\u001b[0m\u001b[0;34m(\u001b[0m\u001b[0;36m10\u001b[0m\u001b[0;34m,\u001b[0m \u001b[0;36m6\u001b[0m\u001b[0;34m)\u001b[0m\u001b[0;34m,\u001b[0m\u001b[0;34m\u001b[0m\n",
       "\u001b[0;34m\u001b[0m\u001b[0;34m)\u001b[0m\u001b[0;34m\u001b[0m\u001b[0;34m\u001b[0m\u001b[0m\n",
       "\u001b[0;31mDocstring:\u001b[0m\n",
       "Plot a performance metric vs. forecast horizon from cross validation.\n",
       "\n",
       "Cross validation produces a collection of out-of-sample model predictions\n",
       "that can be compared to actual values, at a range of different horizons\n",
       "(distance from the cutoff). This computes a specified performance metric\n",
       "for each prediction, and aggregated over a rolling window with horizon.\n",
       "\n",
       "This uses fbprophet.diagnostics.performance_metrics to compute the metrics.\n",
       "Valid values of metric are 'mse', 'rmse', 'mae', 'mape', and 'coverage'.\n",
       "\n",
       "rolling_window is the proportion of data included in the rolling window of\n",
       "aggregation. The default value of 0.1 means 10% of data are included in the\n",
       "aggregation for computing the metric.\n",
       "\n",
       "As a concrete example, if metric='mse', then this plot will show the\n",
       "squared error for each cross validation prediction, along with the MSE\n",
       "averaged over rolling windows of 10% of the data.\n",
       "\n",
       "Parameters\n",
       "----------\n",
       "df_cv: The output from fbprophet.diagnostics.cross_validation.\n",
       "metric: Metric name, one of ['mse', 'rmse', 'mae', 'mape', 'coverage'].\n",
       "rolling_window: Proportion of data to use for rolling average of metric.\n",
       "    In [0, 1]. Defaults to 0.1.\n",
       "ax: Optional matplotlib axis on which to plot. If not given, a new figure\n",
       "    will be created.\n",
       "figsize: Optional tuple width, height in inches.\n",
       "\n",
       "Returns\n",
       "-------\n",
       "a matplotlib figure.\n",
       "\u001b[0;31mFile:\u001b[0m      ~/miniconda3/envs/final-project/lib/python3.7/site-packages/fbprophet/plot.py\n",
       "\u001b[0;31mType:\u001b[0m      function\n"
      ]
     },
     "metadata": {},
     "output_type": "display_data"
    }
   ],
   "source": [
    "?plot_cross_validation_metric"
   ]
  },
  {
   "cell_type": "code",
   "execution_count": 102,
   "metadata": {},
   "outputs": [
    {
     "data": {
      "image/png": "[encoded data removed]",
      "text/plain": [
       "<Figure size 720x432 with 1 Axes>"
      ]
     },
     "metadata": {},
     "output_type": "display_data"
    }
   ],
   "source": [
    "from fbprophet.diagnostics import performance_metrics\n",
    "from fbprophet.plot import plot_cross_validation_metric\n",
    "\n",
    "df_p = performance_metrics(cv_results)\n",
    "\n",
    "fig = plot_cross_validation_metric(cv_results, metric='mape')"
   ]
  },
  {
   "cell_type": "code",
   "execution_count": 101,
   "metadata": {},
   "outputs": [
    {
     "data": {
      "text/plain": [
       "\u001b[0;31mSignature:\u001b[0m \u001b[0mperformance_metrics\u001b[0m\u001b[0;34m(\u001b[0m\u001b[0mdf\u001b[0m\u001b[0;34m,\u001b[0m \u001b[0mmetrics\u001b[0m\u001b[0;34m=\u001b[0m\u001b[0;32mNone\u001b[0m\u001b[0;34m,\u001b[0m \u001b[0mrolling_window\u001b[0m\u001b[0;34m=\u001b[0m\u001b[0;36m0.1\u001b[0m\u001b[0;34m)\u001b[0m\u001b[0;34m\u001b[0m\u001b[0;34m\u001b[0m\u001b[0m\n",
       "\u001b[0;31mDocstring:\u001b[0m\n",
       "Compute performance metrics from cross-validation results.\n",
       "\n",
       "Computes a suite of performance metrics on the output of cross-validation.\n",
       "By default the following metrics are included:\n",
       "'mse': mean squared error\n",
       "'rmse': root mean squared error\n",
       "'mae': mean absolute error\n",
       "'mape': mean percent error\n",
       "'coverage': coverage of the upper and lower intervals\n",
       "\n",
       "A subset of these can be specified by passing a list of names as the\n",
       "`metrics` argument.\n",
       "\n",
       "Metrics are calculated over a rolling window of cross validation\n",
       "predictions, after sorting by horizon. Averaging is first done within each\n",
       "value of horizon, and then across horizons as needed to reach the window\n",
       "size. The size of that window (number of simulated forecast points) is\n",
       "determined by the rolling_window argument, which specifies a proportion of\n",
       "simulated forecast points to include in each window. rolling_window=0 will\n",
       "compute it separately for each horizon. The default of rolling_window=0.1\n",
       "will use 10% of the rows in df in each window. rolling_window=1 will\n",
       "compute the metric across all simulated forecast points. The results are\n",
       "set to the right edge of the window.\n",
       "\n",
       "If rolling_window < 0, then metrics are computed at each datapoint with no\n",
       "averaging (i.e., 'mse' will actually be squared error with no mean).\n",
       "\n",
       "The output is a dataframe containing column 'horizon' along with columns\n",
       "for each of the metrics computed.\n",
       "\n",
       "Parameters\n",
       "----------\n",
       "df: The dataframe returned by cross_validation.\n",
       "metrics: A list of performance metrics to compute. If not provided, will\n",
       "    use ['mse', 'rmse', 'mae', 'mape', 'coverage'].\n",
       "rolling_window: Proportion of data to use in each rolling window for\n",
       "    computing the metrics. Should be in [0, 1] to average\n",
       "\n",
       "Returns\n",
       "-------\n",
       "Dataframe with a column for each metric, and column 'horizon'\n",
       "\u001b[0;31mFile:\u001b[0m      ~/miniconda3/envs/final-project/lib/python3.7/site-packages/fbprophet/diagnostics.py\n",
       "\u001b[0;31mType:\u001b[0m      function\n"
      ]
     },
     "metadata": {},
     "output_type": "display_data"
    }
   ],
   "source": [
    "?performance_metrics"
   ]
  },
  {
   "cell_type": "code",
   "execution_count": 100,
   "metadata": {},
   "outputs": [
    {
     "data": {
      "text/html": [
       "<div>\n",
       "<style scoped>\n",
       "    .dataframe tbody tr th:only-of-type {\n",
       "        vertical-align: middle;\n",
       "    }\n",
       "\n",
       "    .dataframe tbody tr th {\n",
       "        vertical-align: top;\n",
       "    }\n",
       "\n",
       "    .dataframe thead th {\n",
       "        text-align: right;\n",
       "    }\n",
       "</style>\n",
       "<table border=\"1\" class=\"dataframe\">\n",
       "  <thead>\n",
       "    <tr style=\"text-align: right;\">\n",
       "      <th></th>\n",
       "      <th>horizon</th>\n",
       "      <th>mse</th>\n",
       "      <th>rmse</th>\n",
       "      <th>mae</th>\n",
       "      <th>mape</th>\n",
       "      <th>mdape</th>\n",
       "      <th>coverage</th>\n",
       "    </tr>\n",
       "  </thead>\n",
       "  <tbody>\n",
       "    <tr>\n",
       "      <th>0</th>\n",
       "      <td>14 days</td>\n",
       "      <td>8.430306e+11</td>\n",
       "      <td>9.181670e+05</td>\n",
       "      <td>7.360216e+05</td>\n",
       "      <td>0.146136</td>\n",
       "      <td>0.135040</td>\n",
       "      <td>0.350</td>\n",
       "    </tr>\n",
       "    <tr>\n",
       "      <th>1</th>\n",
       "      <td>21 days</td>\n",
       "      <td>5.256873e+11</td>\n",
       "      <td>7.250430e+05</td>\n",
       "      <td>5.971674e+05</td>\n",
       "      <td>0.126409</td>\n",
       "      <td>0.130321</td>\n",
       "      <td>0.375</td>\n",
       "    </tr>\n",
       "    <tr>\n",
       "      <th>2</th>\n",
       "      <td>28 days</td>\n",
       "      <td>3.093849e+11</td>\n",
       "      <td>5.562238e+05</td>\n",
       "      <td>4.709454e+05</td>\n",
       "      <td>0.101722</td>\n",
       "      <td>0.111606</td>\n",
       "      <td>0.375</td>\n",
       "    </tr>\n",
       "    <tr>\n",
       "      <th>3</th>\n",
       "      <td>35 days</td>\n",
       "      <td>3.347328e+11</td>\n",
       "      <td>5.785610e+05</td>\n",
       "      <td>5.058599e+05</td>\n",
       "      <td>0.130596</td>\n",
       "      <td>0.134224</td>\n",
       "      <td>0.375</td>\n",
       "    </tr>\n",
       "    <tr>\n",
       "      <th>4</th>\n",
       "      <td>42 days</td>\n",
       "      <td>7.219473e+11</td>\n",
       "      <td>8.496748e+05</td>\n",
       "      <td>7.232392e+05</td>\n",
       "      <td>0.159699</td>\n",
       "      <td>0.177163</td>\n",
       "      <td>0.175</td>\n",
       "    </tr>\n",
       "    <tr>\n",
       "      <th>5</th>\n",
       "      <td>49 days</td>\n",
       "      <td>1.220274e+12</td>\n",
       "      <td>1.104660e+06</td>\n",
       "      <td>7.950127e+05</td>\n",
       "      <td>0.153284</td>\n",
       "      <td>0.180731</td>\n",
       "      <td>0.225</td>\n",
       "    </tr>\n",
       "    <tr>\n",
       "      <th>6</th>\n",
       "      <td>56 days</td>\n",
       "      <td>5.549852e+11</td>\n",
       "      <td>7.449733e+05</td>\n",
       "      <td>5.395478e+05</td>\n",
       "      <td>0.107417</td>\n",
       "      <td>0.105548</td>\n",
       "      <td>0.450</td>\n",
       "    </tr>\n",
       "    <tr>\n",
       "      <th>7</th>\n",
       "      <td>63 days</td>\n",
       "      <td>4.208086e+11</td>\n",
       "      <td>6.486976e+05</td>\n",
       "      <td>5.403038e+05</td>\n",
       "      <td>0.107628</td>\n",
       "      <td>0.144551</td>\n",
       "      <td>0.300</td>\n",
       "    </tr>\n",
       "    <tr>\n",
       "      <th>8</th>\n",
       "      <td>70 days</td>\n",
       "      <td>2.397949e+11</td>\n",
       "      <td>4.896885e+05</td>\n",
       "      <td>4.109873e+05</td>\n",
       "      <td>0.071477</td>\n",
       "      <td>0.065487</td>\n",
       "      <td>0.550</td>\n",
       "    </tr>\n",
       "    <tr>\n",
       "      <th>9</th>\n",
       "      <td>77 days</td>\n",
       "      <td>5.019103e+11</td>\n",
       "      <td>7.084563e+05</td>\n",
       "      <td>5.253878e+05</td>\n",
       "      <td>0.077816</td>\n",
       "      <td>0.053782</td>\n",
       "      <td>0.525</td>\n",
       "    </tr>\n",
       "    <tr>\n",
       "      <th>10</th>\n",
       "      <td>84 days</td>\n",
       "      <td>1.359027e+12</td>\n",
       "      <td>1.165773e+06</td>\n",
       "      <td>9.223403e+05</td>\n",
       "      <td>0.200070</td>\n",
       "      <td>0.085950</td>\n",
       "      <td>0.300</td>\n",
       "    </tr>\n",
       "    <tr>\n",
       "      <th>11</th>\n",
       "      <td>91 days</td>\n",
       "      <td>2.900023e+12</td>\n",
       "      <td>1.702945e+06</td>\n",
       "      <td>1.303702e+06</td>\n",
       "      <td>0.527345</td>\n",
       "      <td>0.133159</td>\n",
       "      <td>0.250</td>\n",
       "    </tr>\n",
       "  </tbody>\n",
       "</table>\n",
       "</div>"
      ],
      "text/plain": [
       "   horizon           mse          rmse           mae      mape     mdape  \\\n",
       "0  14 days  8.430306e+11  9.181670e+05  7.360216e+05  0.146136  0.135040   \n",
       "1  21 days  5.256873e+11  7.250430e+05  5.971674e+05  0.126409  0.130321   \n",
       "2  28 days  3.093849e+11  5.562238e+05  4.709454e+05  0.101722  0.111606   \n",
       "3  35 days  3.347328e+11  5.785610e+05  5.058599e+05  0.130596  0.134224   \n",
       "4  42 days  7.219473e+11  8.496748e+05  7.232392e+05  0.159699  0.177163   \n",
       "5  49 days  1.220274e+12  1.104660e+06  7.950127e+05  0.153284  0.180731   \n",
       "6  56 days  5.549852e+11  7.449733e+05  5.395478e+05  0.107417  0.105548   \n",
       "7  63 days  4.208086e+11  6.486976e+05  5.403038e+05  0.107628  0.144551   \n",
       "8  70 days  2.397949e+11  4.896885e+05  4.109873e+05  0.071477  0.065487   \n",
       "9  77 days  5.019103e+11  7.084563e+05  5.253878e+05  0.077816  0.053782   \n",
       "10 84 days  1.359027e+12  1.165773e+06  9.223403e+05  0.200070  0.085950   \n",
       "11 91 days  2.900023e+12  1.702945e+06  1.303702e+06  0.527345  0.133159   \n",
       "\n",
       "    coverage  \n",
       "0      0.350  \n",
       "1      0.375  \n",
       "2      0.375  \n",
       "3      0.375  \n",
       "4      0.175  \n",
       "5      0.225  \n",
       "6      0.450  \n",
       "7      0.300  \n",
       "8      0.550  \n",
       "9      0.525  \n",
       "10     0.300  \n",
       "11     0.250  "
      ]
     },
     "execution_count": 100,
     "metadata": {},
     "output_type": "execute_result"
    }
   ],
   "source": [
    "from fbprophet.diagnostics import performance_metrics\n",
    "\n",
    "\n",
    "df_p = performance_metrics(cv_results)\n",
    "df_p"
   ]
  },
  {
   "cell_type": "code",
   "execution_count": 56,
   "metadata": {},
   "outputs": [
    {
     "name": "stderr",
     "output_type": "stream",
     "text": [
      "INFO:fbprophet:Disabling weekly seasonality. Run prophet with weekly_seasonality=True to override this.\n",
      "INFO:fbprophet:Disabling daily seasonality. Run prophet with daily_seasonality=True to override this.\n"
     ]
    },
    {
     "ename": "ValueError",
     "evalue": "Boolean array expected for the condition, not datetime64[ns]",
     "output_type": "error",
     "traceback": [
      "\u001b[0;31m---------------------------------------------------------------------------\u001b[0m",
      "\u001b[0;31mValueError\u001b[0m                                Traceback (most recent call last)",
      "\u001b[0;32m<ipython-input-56-d56ab187c102>\u001b[0m in \u001b[0;36m<module>\u001b[0;34m\u001b[0m\n\u001b[0;32m----> 1\u001b[0;31m \u001b[0mplot_forecast\u001b[0m\u001b[0;34m(\u001b[0m\u001b[0;34m'JPY'\u001b[0m\u001b[0;34m,\u001b[0m \u001b[0;36m5\u001b[0m\u001b[0;34m,\u001b[0m \u001b[0;34m'W'\u001b[0m\u001b[0;34m)\u001b[0m\u001b[0;34m\u001b[0m\u001b[0;34m\u001b[0m\u001b[0m\n\u001b[0m",
      "\u001b[0;32m<ipython-input-49-4d604946d5b6>\u001b[0m in \u001b[0;36mplot_forecast\u001b[0;34m(market, period, frequency)\u001b[0m\n\u001b[1;32m      4\u001b[0m     \u001b[0mmodel\u001b[0m \u001b[0;34m=\u001b[0m \u001b[0mcreate_forecast\u001b[0m\u001b[0;34m(\u001b[0m\u001b[0mmarket\u001b[0m\u001b[0;34m,\u001b[0m \u001b[0mperiod\u001b[0m\u001b[0;34m,\u001b[0m \u001b[0mfrequency\u001b[0m\u001b[0;34m)\u001b[0m\u001b[0;34m\u001b[0m\u001b[0;34m\u001b[0m\u001b[0m\n\u001b[1;32m      5\u001b[0m \u001b[0;34m\u001b[0m\u001b[0m\n\u001b[0;32m----> 6\u001b[0;31m     \u001b[0mmodel\u001b[0m\u001b[0;34m.\u001b[0m\u001b[0mplot\u001b[0m\u001b[0;34m(\u001b[0m\u001b[0mforecast\u001b[0m\u001b[0;34m)\u001b[0m\u001b[0;34m\u001b[0m\u001b[0;34m\u001b[0m\u001b[0m\n\u001b[0m\u001b[1;32m      7\u001b[0m     \u001b[0ma\u001b[0m \u001b[0;34m=\u001b[0m \u001b[0madd_changepoints_to_plot\u001b[0m\u001b[0;34m(\u001b[0m\u001b[0mfig\u001b[0m\u001b[0;34m.\u001b[0m\u001b[0mgca\u001b[0m\u001b[0;34m(\u001b[0m\u001b[0;34m)\u001b[0m\u001b[0;34m,\u001b[0m \u001b[0mmodel\u001b[0m\u001b[0;34m,\u001b[0m \u001b[0mforecast\u001b[0m\u001b[0;34m)\u001b[0m\u001b[0;34m\u001b[0m\u001b[0;34m\u001b[0m\u001b[0m\n",
      "\u001b[0;32m~/miniconda3/envs/final-project/lib/python3.7/site-packages/pandas/plotting/_core.py\u001b[0m in \u001b[0;36m__call__\u001b[0;34m(self, *args, **kwargs)\u001b[0m\n\u001b[1;32m    810\u001b[0m                 \u001b[0;32mif\u001b[0m \u001b[0mis_integer\u001b[0m\u001b[0;34m(\u001b[0m\u001b[0mx\u001b[0m\u001b[0;34m)\u001b[0m \u001b[0;32mand\u001b[0m \u001b[0;32mnot\u001b[0m \u001b[0mdata\u001b[0m\u001b[0;34m.\u001b[0m\u001b[0mcolumns\u001b[0m\u001b[0;34m.\u001b[0m\u001b[0mholds_integer\u001b[0m\u001b[0;34m(\u001b[0m\u001b[0;34m)\u001b[0m\u001b[0;34m:\u001b[0m\u001b[0;34m\u001b[0m\u001b[0;34m\u001b[0m\u001b[0m\n\u001b[1;32m    811\u001b[0m                     \u001b[0mx\u001b[0m \u001b[0;34m=\u001b[0m \u001b[0mdata_cols\u001b[0m\u001b[0;34m[\u001b[0m\u001b[0mx\u001b[0m\u001b[0;34m]\u001b[0m\u001b[0;34m\u001b[0m\u001b[0;34m\u001b[0m\u001b[0m\n\u001b[0;32m--> 812\u001b[0;31m                 \u001b[0;32melif\u001b[0m \u001b[0;32mnot\u001b[0m \u001b[0misinstance\u001b[0m\u001b[0;34m(\u001b[0m\u001b[0mdata\u001b[0m\u001b[0;34m[\u001b[0m\u001b[0mx\u001b[0m\u001b[0;34m]\u001b[0m\u001b[0;34m,\u001b[0m \u001b[0mABCSeries\u001b[0m\u001b[0;34m)\u001b[0m\u001b[0;34m:\u001b[0m\u001b[0;34m\u001b[0m\u001b[0;34m\u001b[0m\u001b[0m\n\u001b[0m\u001b[1;32m    813\u001b[0m                     \u001b[0;32mraise\u001b[0m \u001b[0mValueError\u001b[0m\u001b[0;34m(\u001b[0m\u001b[0;34m\"x must be a label or position\"\u001b[0m\u001b[0;34m)\u001b[0m\u001b[0;34m\u001b[0m\u001b[0;34m\u001b[0m\u001b[0m\n\u001b[1;32m    814\u001b[0m                 \u001b[0mdata\u001b[0m \u001b[0;34m=\u001b[0m \u001b[0mdata\u001b[0m\u001b[0;34m.\u001b[0m\u001b[0mset_index\u001b[0m\u001b[0;34m(\u001b[0m\u001b[0mx\u001b[0m\u001b[0;34m)\u001b[0m\u001b[0;34m\u001b[0m\u001b[0;34m\u001b[0m\u001b[0m\n",
      "\u001b[0;32m~/miniconda3/envs/final-project/lib/python3.7/site-packages/pandas/core/frame.py\u001b[0m in \u001b[0;36m__getitem__\u001b[0;34m(self, key)\u001b[0m\n\u001b[1;32m   2785\u001b[0m         \u001b[0;31m# Do we have a (boolean) DataFrame?\u001b[0m\u001b[0;34m\u001b[0m\u001b[0;34m\u001b[0m\u001b[0;34m\u001b[0m\u001b[0m\n\u001b[1;32m   2786\u001b[0m         \u001b[0;32mif\u001b[0m \u001b[0misinstance\u001b[0m\u001b[0;34m(\u001b[0m\u001b[0mkey\u001b[0m\u001b[0;34m,\u001b[0m \u001b[0mDataFrame\u001b[0m\u001b[0;34m)\u001b[0m\u001b[0;34m:\u001b[0m\u001b[0;34m\u001b[0m\u001b[0;34m\u001b[0m\u001b[0m\n\u001b[0;32m-> 2787\u001b[0;31m             \u001b[0;32mreturn\u001b[0m \u001b[0mself\u001b[0m\u001b[0;34m.\u001b[0m\u001b[0mwhere\u001b[0m\u001b[0;34m(\u001b[0m\u001b[0mkey\u001b[0m\u001b[0;34m)\u001b[0m\u001b[0;34m\u001b[0m\u001b[0;34m\u001b[0m\u001b[0m\n\u001b[0m\u001b[1;32m   2788\u001b[0m \u001b[0;34m\u001b[0m\u001b[0m\n\u001b[1;32m   2789\u001b[0m         \u001b[0;31m# Do we have a (boolean) 1d indexer?\u001b[0m\u001b[0;34m\u001b[0m\u001b[0;34m\u001b[0m\u001b[0;34m\u001b[0m\u001b[0m\n",
      "\u001b[0;32m~/miniconda3/envs/final-project/lib/python3.7/site-packages/pandas/core/generic.py\u001b[0m in \u001b[0;36mwhere\u001b[0;34m(self, cond, other, inplace, axis, level, errors, try_cast)\u001b[0m\n\u001b[1;32m   8917\u001b[0m         \u001b[0mother\u001b[0m \u001b[0;34m=\u001b[0m \u001b[0mcom\u001b[0m\u001b[0;34m.\u001b[0m\u001b[0mapply_if_callable\u001b[0m\u001b[0;34m(\u001b[0m\u001b[0mother\u001b[0m\u001b[0;34m,\u001b[0m \u001b[0mself\u001b[0m\u001b[0;34m)\u001b[0m\u001b[0;34m\u001b[0m\u001b[0;34m\u001b[0m\u001b[0m\n\u001b[1;32m   8918\u001b[0m         return self._where(\n\u001b[0;32m-> 8919\u001b[0;31m             \u001b[0mcond\u001b[0m\u001b[0;34m,\u001b[0m \u001b[0mother\u001b[0m\u001b[0;34m,\u001b[0m \u001b[0minplace\u001b[0m\u001b[0;34m,\u001b[0m \u001b[0maxis\u001b[0m\u001b[0;34m,\u001b[0m \u001b[0mlevel\u001b[0m\u001b[0;34m,\u001b[0m \u001b[0merrors\u001b[0m\u001b[0;34m=\u001b[0m\u001b[0merrors\u001b[0m\u001b[0;34m,\u001b[0m \u001b[0mtry_cast\u001b[0m\u001b[0;34m=\u001b[0m\u001b[0mtry_cast\u001b[0m\u001b[0;34m\u001b[0m\u001b[0;34m\u001b[0m\u001b[0m\n\u001b[0m\u001b[1;32m   8920\u001b[0m         )\n\u001b[1;32m   8921\u001b[0m \u001b[0;34m\u001b[0m\u001b[0m\n",
      "\u001b[0;32m~/miniconda3/envs/final-project/lib/python3.7/site-packages/pandas/core/generic.py\u001b[0m in \u001b[0;36m_where\u001b[0;34m(self, cond, other, inplace, axis, level, errors, try_cast)\u001b[0m\n\u001b[1;32m   8675\u001b[0m             \u001b[0;32mfor\u001b[0m \u001b[0mdt\u001b[0m \u001b[0;32min\u001b[0m \u001b[0mcond\u001b[0m\u001b[0;34m.\u001b[0m\u001b[0mdtypes\u001b[0m\u001b[0;34m:\u001b[0m\u001b[0;34m\u001b[0m\u001b[0;34m\u001b[0m\u001b[0m\n\u001b[1;32m   8676\u001b[0m                 \u001b[0;32mif\u001b[0m \u001b[0;32mnot\u001b[0m \u001b[0mis_bool_dtype\u001b[0m\u001b[0;34m(\u001b[0m\u001b[0mdt\u001b[0m\u001b[0;34m)\u001b[0m\u001b[0;34m:\u001b[0m\u001b[0;34m\u001b[0m\u001b[0;34m\u001b[0m\u001b[0m\n\u001b[0;32m-> 8677\u001b[0;31m                     \u001b[0;32mraise\u001b[0m \u001b[0mValueError\u001b[0m\u001b[0;34m(\u001b[0m\u001b[0mmsg\u001b[0m\u001b[0;34m.\u001b[0m\u001b[0mformat\u001b[0m\u001b[0;34m(\u001b[0m\u001b[0mdtype\u001b[0m\u001b[0;34m=\u001b[0m\u001b[0mdt\u001b[0m\u001b[0;34m)\u001b[0m\u001b[0;34m)\u001b[0m\u001b[0;34m\u001b[0m\u001b[0;34m\u001b[0m\u001b[0m\n\u001b[0m\u001b[1;32m   8678\u001b[0m \u001b[0;34m\u001b[0m\u001b[0m\n\u001b[1;32m   8679\u001b[0m         \u001b[0mcond\u001b[0m \u001b[0;34m=\u001b[0m \u001b[0;34m-\u001b[0m\u001b[0mcond\u001b[0m \u001b[0;32mif\u001b[0m \u001b[0minplace\u001b[0m \u001b[0;32melse\u001b[0m \u001b[0mcond\u001b[0m\u001b[0;34m\u001b[0m\u001b[0;34m\u001b[0m\u001b[0m\n",
      "\u001b[0;31mValueError\u001b[0m: Boolean array expected for the condition, not datetime64[ns]"
     ]
    }
   ],
   "source": [
    "plot_forecast('JPY', 5, 'W')"
   ]
  },
  {
   "cell_type": "code",
   "execution_count": null,
   "metadata": {},
   "outputs": [],
   "source": [
    "for i in ['AUD', 'CAD', 'EUR', 'GBP', 'JPY', 'USD']:\n",
    "    create_forecast(i, 10, 'W')\n",
    "\n",
    "#create_forecast('CAD', 10, 'W')"
   ]
  },
  {
   "cell_type": "code",
   "execution_count": 40,
   "metadata": {},
   "outputs": [
    {
     "name": "stderr",
     "output_type": "stream",
     "text": [
      "INFO:fbprophet:Disabling weekly seasonality. Run prophet with weekly_seasonality=True to override this.\n",
      "INFO:fbprophet:Disabling daily seasonality. Run prophet with daily_seasonality=True to override this.\n"
     ]
    },
    {
     "data": {
      "image/png": "[encoded data removed]",
      "text/plain": [
       "<Figure size 720x432 with 1 Axes>"
      ]
     },
     "metadata": {},
     "output_type": "display_data"
    }
   ],
   "source": [
    "from fbprophet.plot import add_changepoints_to_plot\n",
    "\n",
    "baseline = get_df('AUD')\n",
    "m = Prophet(seasonality_mode='multiplicative', changepoint_prior_scale=0.5)\n",
    "\n",
    "\n",
    "m.fit(baseline)\n",
    "futures = m.make_future_dataframe(periods=13, freq='W')\n",
    "forecast = m.predict(futures)\n",
    "#print(futures.tail(13))\n",
    "fig = m.plot(forecast)\n",
    "a = add_changepoints_to_plot(fig.gca(), m, forecast)"
   ]
  },
  {
   "cell_type": "code",
   "execution_count": 94,
   "metadata": {},
   "outputs": [
    {
     "name": "stdout",
     "output_type": "stream",
     "text": [
      "10    2014-03-17\n",
      "21    2014-06-02\n",
      "31    2014-08-11\n",
      "41    2014-10-20\n",
      "52    2015-01-05\n",
      "62    2015-03-16\n",
      "73    2015-06-01\n",
      "83    2015-08-10\n",
      "93    2015-10-19\n",
      "104   2016-01-04\n",
      "114   2016-03-14\n",
      "124   2016-05-23\n",
      "135   2016-08-08\n",
      "145   2016-10-17\n",
      "155   2016-12-26\n",
      "166   2017-03-13\n",
      "176   2017-05-22\n",
      "186   2017-07-31\n",
      "197   2017-10-16\n",
      "207   2017-12-25\n",
      "218   2018-03-12\n",
      "228   2018-05-21\n",
      "238   2018-07-30\n",
      "249   2018-10-15\n",
      "259   2018-12-24\n",
      "Name: ds, dtype: datetime64[ns]\n"
     ]
    }
   ],
   "source": [
    "print(m.changepoints)"
   ]
  },
  {
   "cell_type": "code",
   "execution_count": null,
   "metadata": {},
   "outputs": [],
   "source": [
    "from fbprophet.diagnostics import performance_metrics\n",
    "df_p = performance_metrics(df_cv)\n",
    "df_p.head()\n"
   ]
  },
  {
   "cell_type": "code",
   "execution_count": null,
   "metadata": {},
   "outputs": [],
   "source": []
  },
  {
   "cell_type": "markdown",
   "metadata": {},
   "source": [
    "## Cleaning Data"
   ]
  }
 ],
 "metadata": {
  "kernelspec": {
   "display_name": "Python [conda env:final-project]",
   "language": "python",
   "name": "conda-env-final-project-py"
  },
  "language_info": {
   "codemirror_mode": {
    "name": "ipython",
    "version": 3
   },
   "file_extension": ".py",
   "mimetype": "text/x-python",
   "name": "python",
   "nbconvert_exporter": "python",
   "pygments_lexer": "ipython3",
   "version": "3.7.5"
  }
 },
 "nbformat": 4,
 "nbformat_minor": 4
}
